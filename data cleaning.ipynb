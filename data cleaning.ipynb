{
 "cells": [
  {
   "cell_type": "code",
   "execution_count": 1,
   "id": "d04ab471-c471-4d5b-82f8-996e80348940",
   "metadata": {},
   "outputs": [],
   "source": [
    "import pandas as pd\n",
    "import pdb\n",
    "import numpy as np\n",
    "import geopandas as gpd\n",
    "import shapely as sp\n",
    "import censusgeocode as cg\n",
    "from shapely import geometry\n",
    "\n",
    "import matplotlib.pyplot as plt\n"
   ]
  },
  {
   "cell_type": "code",
   "execution_count": 2,
   "id": "4b3986d8-69da-4235-9608-bb175bfcb96e",
   "metadata": {},
   "outputs": [
    {
     "name": "stderr",
     "output_type": "stream",
     "text": [
      "C:\\Users\\Jerry\\AppData\\Local\\Temp\\ipykernel_19944\\3173956785.py:3: DtypeWarning: Columns (37) have mixed types. Specify dtype option on import or set low_memory=False.\n",
      "  tree2005 =  pd.read_csv('data\\\\2005_Street_Tree_Census.csv')\n"
     ]
    }
   ],
   "source": [
    "#read tree census data from website\n",
    "tree2015 = pd.read_csv('data\\\\2015_Street_Tree_Census.csv')\n",
    "tree2005 =  pd.read_csv('data\\\\2005_Street_Tree_Census.csv')\n",
    "tree95 =  pd.read_csv('data\\\\1995_Street_Tree_Census.csv')\n",
    "#read 2020 census\n",
    "#tracts_raw = pd.read_csv('data\\\\nhgis0001_csv\\\\nhgis0001_ds248_2020_tract.csv', encoding='latin-1')\n",
    "\n",
    "# options are to only import columns I will need and define dtypes for them\n",
    "# or keep doing it this way\n",
    "def encode_boroct(bc, l, sct):\n",
    "    bct = np.where(l == 1, bc+\"000\"+sct+\"00\",\n",
    "                  np.where(l == 2, bc+\"00\"+sct +\"00\",\n",
    "                  np.where(l == 3, bc+\"0\"+sct+\"00\",\n",
    "                  np.where(l == 4, bc+sct+\"00\",\n",
    "                  np.where(l == 5, bc+\"0\"+sct,\n",
    "                  np.where(l == 6, bc+sct,\n",
    "                                    \"NaN\"))))))\n",
    "    return bct\n",
    "\n",
    "    "
   ]
  },
  {
   "cell_type": "code",
   "execution_count": 3,
   "id": "f12e6c1c-ca09-4dde-9815-31bdfcae6ea6",
   "metadata": {},
   "outputs": [
    {
     "data": {
      "text/plain": [
       "0.970592516293961"
      ]
     },
     "execution_count": 3,
     "metadata": {},
     "output_type": "execute_result"
    }
   ],
   "source": [
    "tree05 = tree2005.copy()\n",
    "tree95 = tree95.copy()\n",
    "tree15 = tree2015.copy()\n",
    "\n",
    "ct_present = tree15[\"census tract\"].count() + tree95[\"CensusTract_2010\"].count() + tree15[\"census tract\"].count() \n",
    "totals = tree95.Borough.count() + tree15.borocode.count() + tree05.borocode.count()\n",
    "ct_present / totals \n"
   ]
  },
  {
   "cell_type": "code",
   "execution_count": 10,
   "id": "c88f38f5-9867-4283-9146-773ac78c3848",
   "metadata": {},
   "outputs": [],
   "source": [
    "tree05 = tree2005.copy()\n",
    "tree95 = tree95[[\"Borough\",\"CensusTract_2010\",\"CensusBlock_2010\",\"NTA_2010\",\"SegmentID\"]]\n",
    "tree05 =  tree05[[\"cb_num\",\"borocode\",'boroname','cncldist','nta','nta_name','boro_ct','latitude','longitude','census tract', 'bin', 'bbl']]"
   ]
  },
  {
   "cell_type": "code",
   "execution_count": 11,
   "id": "33e166b1-d832-4741-ba11-4273207a17b6",
   "metadata": {},
   "outputs": [
    {
     "data": {
      "text/plain": [
       "0.04506672288965529"
      ]
     },
     "execution_count": 11,
     "metadata": {},
     "output_type": "execute_result"
    }
   ],
   "source": [
    "missing95 = tree95[tree95.CensusTract_2010.isna()].Borough.count() #number of trees with no census tract\n",
    "missing95/tree95.Borough.count()"
   ]
  },
  {
   "cell_type": "code",
   "execution_count": 12,
   "id": "9496a4c4-e0c2-45a9-b7b5-c1509a75497b",
   "metadata": {},
   "outputs": [
    {
     "data": {
      "text/plain": [
       "0.17777680241469887"
      ]
     },
     "execution_count": 12,
     "metadata": {},
     "output_type": "execute_result"
    }
   ],
   "source": [
    "missing05 = tree05.borocode.count()-tree05.boro_ct.count()\n",
    "missing05/tree05.borocode.count()"
   ]
  },
  {
   "cell_type": "code",
   "execution_count": 116,
   "id": "6de43927-6295-40b6-b788-8e79a17e96d2",
   "metadata": {},
   "outputs": [],
   "source": [
    "tractcount = pd.DataFrame(tree2015.groupby('boro_ct').size())\n",
    "#tree05 = tree2005.copy()"
   ]
  },
  {
   "cell_type": "code",
   "execution_count": 30,
   "id": "a2c8b7e1-7b60-4aee-82cb-6aa94fde219c",
   "metadata": {
    "tags": []
   },
   "outputs": [
    {
     "data": {
      "text/plain": [
       "dtype('O')"
      ]
     },
     "execution_count": 30,
     "metadata": {},
     "output_type": "execute_result"
    }
   ],
   "source": [
    "tree05 = tree05[['census tract', 'borocode','boro_ct']]\n",
    "tree05 = tree05.loc[tree05['census tract'].notnull()]\n",
    "tree05['sct'] = [\"%.0f\" % i for i in tree05['census tract'] ]\n",
    "tree05['len'] = [len(i) for i in tree05['sct'] ]\n",
    "tree05.borocode = [str(d) for d in tree05.borocode]\n",
    "tree05['boro_ct'] = encode_boroct(tree05.borocode, tree05.len, tree05.sct)\n"
   ]
  },
  {
   "cell_type": "code",
   "execution_count": 96,
   "id": "92f20afd-6da0-4616-9a51-13480f26376c",
   "metadata": {},
   "outputs": [
    {
     "data": {
      "text/plain": [
       "census tract    569458\n",
       "borocode        569458\n",
       "boro_ct         569458\n",
       "sct             569458\n",
       "len             569458\n",
       "dtype: int64"
      ]
     },
     "execution_count": 96,
     "metadata": {},
     "output_type": "execute_result"
    }
   ],
   "source": [
    "final05 = tree2005.copy()\n",
    "tree05.count()"
   ]
  },
  {
   "cell_type": "code",
   "execution_count": 73,
   "id": "a986de24-b6a4-477c-b45a-076af55aefb5",
   "metadata": {},
   "outputs": [
    {
     "data": {
      "text/plain": [
       "OBJECTID        592372\n",
       "cen_year        592372\n",
       "tree_dbh        592372\n",
       "address         592372\n",
       "tree_loc        592372\n",
       "pit_type        592372\n",
       "soil_lvl        592372\n",
       "status          592372\n",
       "spc_latin       592372\n",
       "spc_common      592372\n",
       "vert_other      592372\n",
       "vert_pgrd       592372\n",
       "vert_tgrd       592372\n",
       "vert_wall       592372\n",
       "horz_blck       592372\n",
       "horz_grate      592372\n",
       "horz_plant      592372\n",
       "horz_other      592372\n",
       "sidw_crack      592372\n",
       "sidw_raise      592372\n",
       "wire_htap       592372\n",
       "wire_prime      592372\n",
       "wire_2nd        592372\n",
       "wire_other      592372\n",
       "inf_canopy      592372\n",
       "inf_guard       592372\n",
       "inf_wires       592372\n",
       "inf_paving      592372\n",
       "inf_outlet      592372\n",
       "inf_shoes       592372\n",
       "inf_lights      592372\n",
       "inf_other       592372\n",
       "trunk_dmg       592372\n",
       "zipcode         592372\n",
       "zip_city        583461\n",
       "cb_num          592372\n",
       "borocode        592372\n",
       "boroname        592372\n",
       "cncldist        592372\n",
       "st_assem        592372\n",
       "st_senate       592372\n",
       "nta             592372\n",
       "nta_name        592372\n",
       "boro_ct         487062\n",
       "state           592372\n",
       "latitude        592372\n",
       "longitude       592372\n",
       "x_sp            592372\n",
       "y_sp            592372\n",
       "objectid_1      592372\n",
       "census tract    569458\n",
       "bin             542747\n",
       "bbl             542747\n",
       "Location 1      592372\n",
       "dtype: int64"
      ]
     },
     "execution_count": 73,
     "metadata": {},
     "output_type": "execute_result"
    }
   ],
   "source": [
    "final05.count()"
   ]
  },
  {
   "cell_type": "code",
   "execution_count": 98,
   "id": "c4f11dbd-6f91-4ef5-836c-e76d030094cf",
   "metadata": {},
   "outputs": [],
   "source": [
    "tree95 = tree95.loc[tree95.CensusTract_2010.notnull()]\n",
    "tree95['borocode'] = np.where(tree95.Borough == 'Staten Island', '5',\n",
    "                     np.where(tree95.Borough == 'Queens', '4',\n",
    "                     np.where(tree95.Borough == 'Brooklyn', '3',\n",
    "                     np.where(tree95.Borough == 'Bronx', '2',\n",
    "                     np.where(tree95.Borough == 'Manhattan', '1',\n",
    "                              6)))))\n",
    "\n",
    "                              "
   ]
  },
  {
   "cell_type": "code",
   "execution_count": 99,
   "id": "c5cea811-a1a8-4077-8718-2f864d5ede65",
   "metadata": {},
   "outputs": [
    {
     "data": {
      "text/plain": [
       "array(['1', '2', '3', '4', '5'], dtype=object)"
      ]
     },
     "execution_count": 99,
     "metadata": {},
     "output_type": "execute_result"
    }
   ],
   "source": [
    "tree95.borocode.unique()"
   ]
  },
  {
   "cell_type": "code",
   "execution_count": 100,
   "id": "1743a108-89be-42a1-90f5-d3ee886eaf96",
   "metadata": {},
   "outputs": [
    {
     "data": {
      "text/plain": [
       "array([2, 3, 4, 5, 1, 6], dtype=int64)"
      ]
     },
     "execution_count": 100,
     "metadata": {},
     "output_type": "execute_result"
    }
   ],
   "source": [
    "tree95['sct'] = [\"%.0f\" % i for i in tree95['CensusTract_2010'] ]\n",
    "tree95['len'] = [len(i) for i in tree95['sct'] ]\n",
    "tree95.len.unique()"
   ]
  },
  {
   "cell_type": "code",
   "execution_count": 101,
   "id": "ed041e99-ba4a-4d6b-82c1-62ef0ae7c6c0",
   "metadata": {},
   "outputs": [
    {
     "data": {
      "text/html": [
       "<div>\n",
       "<style scoped>\n",
       "    .dataframe tbody tr th:only-of-type {\n",
       "        vertical-align: middle;\n",
       "    }\n",
       "\n",
       "    .dataframe tbody tr th {\n",
       "        vertical-align: top;\n",
       "    }\n",
       "\n",
       "    .dataframe thead th {\n",
       "        text-align: right;\n",
       "    }\n",
       "</style>\n",
       "<table border=\"1\" class=\"dataframe\">\n",
       "  <thead>\n",
       "    <tr style=\"text-align: right;\">\n",
       "      <th></th>\n",
       "      <th>Borough</th>\n",
       "      <th>CensusTract_2010</th>\n",
       "      <th>CensusBlock_2010</th>\n",
       "      <th>NTA_2010</th>\n",
       "      <th>SegmentID</th>\n",
       "      <th>borocode</th>\n",
       "      <th>sct</th>\n",
       "      <th>len</th>\n",
       "      <th>boro_ct</th>\n",
       "    </tr>\n",
       "  </thead>\n",
       "  <tbody>\n",
       "    <tr>\n",
       "      <th>0</th>\n",
       "      <td>Manhattan</td>\n",
       "      <td>48.0</td>\n",
       "      <td>2000.0</td>\n",
       "      <td>MN21</td>\n",
       "      <td>33134</td>\n",
       "      <td>1</td>\n",
       "      <td>48</td>\n",
       "      <td>2</td>\n",
       "      <td>1004800</td>\n",
       "    </tr>\n",
       "    <tr>\n",
       "      <th>1</th>\n",
       "      <td>Manhattan</td>\n",
       "      <td>39.0</td>\n",
       "      <td>2001.0</td>\n",
       "      <td>MN24</td>\n",
       "      <td>31567</td>\n",
       "      <td>1</td>\n",
       "      <td>39</td>\n",
       "      <td>2</td>\n",
       "      <td>1003900</td>\n",
       "    </tr>\n",
       "    <tr>\n",
       "      <th>2</th>\n",
       "      <td>Manhattan</td>\n",
       "      <td>39.0</td>\n",
       "      <td>2001.0</td>\n",
       "      <td>MN24</td>\n",
       "      <td>31567</td>\n",
       "      <td>1</td>\n",
       "      <td>39</td>\n",
       "      <td>2</td>\n",
       "      <td>1003900</td>\n",
       "    </tr>\n",
       "    <tr>\n",
       "      <th>3</th>\n",
       "      <td>Manhattan</td>\n",
       "      <td>39.0</td>\n",
       "      <td>2001.0</td>\n",
       "      <td>MN24</td>\n",
       "      <td>31567</td>\n",
       "      <td>1</td>\n",
       "      <td>39</td>\n",
       "      <td>2</td>\n",
       "      <td>1003900</td>\n",
       "    </tr>\n",
       "    <tr>\n",
       "      <th>4</th>\n",
       "      <td>Manhattan</td>\n",
       "      <td>39.0</td>\n",
       "      <td>2001.0</td>\n",
       "      <td>MN24</td>\n",
       "      <td>31567</td>\n",
       "      <td>1</td>\n",
       "      <td>39</td>\n",
       "      <td>2</td>\n",
       "      <td>1003900</td>\n",
       "    </tr>\n",
       "  </tbody>\n",
       "</table>\n",
       "</div>"
      ],
      "text/plain": [
       "     Borough  CensusTract_2010  CensusBlock_2010 NTA_2010  SegmentID borocode  \\\n",
       "0  Manhattan              48.0            2000.0     MN21      33134        1   \n",
       "1  Manhattan              39.0            2001.0     MN24      31567        1   \n",
       "2  Manhattan              39.0            2001.0     MN24      31567        1   \n",
       "3  Manhattan              39.0            2001.0     MN24      31567        1   \n",
       "4  Manhattan              39.0            2001.0     MN24      31567        1   \n",
       "\n",
       "  sct  len  boro_ct  \n",
       "0  48    2  1004800  \n",
       "1  39    2  1003900  \n",
       "2  39    2  1003900  \n",
       "3  39    2  1003900  \n",
       "4  39    2  1003900  "
      ]
     },
     "execution_count": 101,
     "metadata": {},
     "output_type": "execute_result"
    }
   ],
   "source": [
    "tree95['boro_ct'] = encode_boroct(tree95.borocode, tree95.len, tree95.sct)\n",
    "tree95['boro_ct'] = pd.to_numeric(tree95.boro_ct)\n",
    "tree95.head()\n",
    "\n"
   ]
  },
  {
   "cell_type": "code",
   "execution_count": 119,
   "id": "959754ba-a6ba-45b3-8837-43a4b8ba84c3",
   "metadata": {},
   "outputs": [
    {
     "data": {
      "text/plain": [
       "2119"
      ]
     },
     "execution_count": 119,
     "metadata": {},
     "output_type": "execute_result"
    }
   ],
   "source": [
    "\n",
    "tree05.boro_ct = [int(z) for z in pd.to_numeric(tree05.boro_ct)]\n",
    "final95 = pd.DataFrame(tree95.groupby('boro_ct').size())\n",
    "final05 = pd.DataFrame(tree05.groupby('boro_ct').size())\n",
    "final95.rename(columns={0: 'trees95'}, inplace = True)\n",
    "final05.rename(columns={0: 'trees05'}, inplace = True)\n",
    "merged = pd.merge(final95,final05, how='inner', left_index = True, right_index = True)\n",
    "len(merged)"
   ]
  },
  {
   "cell_type": "code",
   "execution_count": 121,
   "id": "3f1585ce-07e7-44bc-948c-abfbca31a2e7",
   "metadata": {},
   "outputs": [
    {
     "data": {
      "text/html": [
       "<div>\n",
       "<style scoped>\n",
       "    .dataframe tbody tr th:only-of-type {\n",
       "        vertical-align: middle;\n",
       "    }\n",
       "\n",
       "    .dataframe tbody tr th {\n",
       "        vertical-align: top;\n",
       "    }\n",
       "\n",
       "    .dataframe thead th {\n",
       "        text-align: right;\n",
       "    }\n",
       "</style>\n",
       "<table border=\"1\" class=\"dataframe\">\n",
       "  <thead>\n",
       "    <tr style=\"text-align: right;\">\n",
       "      <th></th>\n",
       "      <th>trees95</th>\n",
       "      <th>trees05</th>\n",
       "      <th>0_x</th>\n",
       "      <th>0_y</th>\n",
       "    </tr>\n",
       "    <tr>\n",
       "      <th>boro_ct</th>\n",
       "      <th></th>\n",
       "      <th></th>\n",
       "      <th></th>\n",
       "      <th></th>\n",
       "    </tr>\n",
       "  </thead>\n",
       "  <tbody>\n",
       "    <tr>\n",
       "      <th>1000600</th>\n",
       "      <td>153</td>\n",
       "      <td>89</td>\n",
       "      <td>187</td>\n",
       "      <td>187</td>\n",
       "    </tr>\n",
       "    <tr>\n",
       "      <th>1000700</th>\n",
       "      <td>81</td>\n",
       "      <td>133</td>\n",
       "      <td>144</td>\n",
       "      <td>144</td>\n",
       "    </tr>\n",
       "    <tr>\n",
       "      <th>1000800</th>\n",
       "      <td>96</td>\n",
       "      <td>74</td>\n",
       "      <td>288</td>\n",
       "      <td>288</td>\n",
       "    </tr>\n",
       "    <tr>\n",
       "      <th>1000900</th>\n",
       "      <td>111</td>\n",
       "      <td>59</td>\n",
       "      <td>83</td>\n",
       "      <td>83</td>\n",
       "    </tr>\n",
       "    <tr>\n",
       "      <th>1001200</th>\n",
       "      <td>36</td>\n",
       "      <td>39</td>\n",
       "      <td>111</td>\n",
       "      <td>111</td>\n",
       "    </tr>\n",
       "  </tbody>\n",
       "</table>\n",
       "</div>"
      ],
      "text/plain": [
       "         trees95  trees05  0_x  0_y\n",
       "boro_ct                            \n",
       "1000600      153       89  187  187\n",
       "1000700       81      133  144  144\n",
       "1000800       96       74  288  288\n",
       "1000900      111       59   83   83\n",
       "1001200       36       39  111  111"
      ]
     },
     "execution_count": 121,
     "metadata": {},
     "output_type": "execute_result"
    }
   ],
   "source": [
    "merged = pd.merge(merged, tractcount, how = 'inner', left_index = True, right_index= True)\n",
    "merged.head()"
   ]
  },
  {
   "cell_type": "code",
   "execution_count": 18,
   "id": "cdbc7fa4-8fc3-41ff-b165-e4de061f7f3a",
   "metadata": {},
   "outputs": [
    {
     "data": {
      "text/html": [
       "\n",
       "        <iframe\n",
       "            width=\"100%\"\n",
       "            height=\"650\"\n",
       "            src=\"http://127.0.0.1:8050/\"\n",
       "            frameborder=\"0\"\n",
       "            allowfullscreen\n",
       "            \n",
       "        ></iframe>\n",
       "        "
      ],
      "text/plain": [
       "<IPython.lib.display.IFrame at 0x17a96b04c70>"
      ]
     },
     "metadata": {},
     "output_type": "display_data"
    }
   ],
   "source": [
    "import plotly.express as px\n",
    "from jupyter_dash import JupyterDash\n",
    "import dash_core_components as dcc\n",
    "import dash_html_components as html\n",
    "from dash.dependencies import Input, Output# Load Data\n",
    "df = px.data.tips()# Build App \n",
    "app = JupyterDash(__name__)\n",
    "app.layout = html.Div([\n",
    "    html.H1(\"JupyterDash Demo\"),\n",
    "    dcc.Graph(id='graph'),\n",
    "    html.Label([\n",
    "        \"colorscale\",\n",
    "        dcc.Dropdown(\n",
    "            id='colorscale-dropdown', clearable=False,\n",
    "            value='plasma', options=[\n",
    "                {'label': c, 'value': c}\n",
    "                for c in px.colors.named_colorscales()\n",
    "            ])\n",
    "    ]),\n",
    "])# Define callback to update graph\n",
    "@app.callback(\n",
    "    Output('graph', 'figure'),\n",
    "    [Input(\"colorscale-dropdown\", \"value\")]\n",
    ")\n",
    "def update_figure(colorscale):\n",
    "    return px.scatter(\n",
    "        df, x=\"total_bill\", y=\"tip\", color=\"size\",\n",
    "        color_continuous_scale=colorscale,\n",
    "        render_mode=\"webgl\", title=\"Tips\"\n",
    "    )# Run app and display result inline in the notebook\n",
    "app.run_server(mode='inline')"
   ]
  },
  {
   "cell_type": "code",
   "execution_count": null,
   "id": "bc8636fb-96a3-46d7-997b-d17614bbaecc",
   "metadata": {},
   "outputs": [],
   "source": []
  }
 ],
 "metadata": {
  "kernelspec": {
   "display_name": "Python 3 (ipykernel)",
   "language": "python",
   "name": "python3"
  },
  "language_info": {
   "codemirror_mode": {
    "name": "ipython",
    "version": 3
   },
   "file_extension": ".py",
   "mimetype": "text/x-python",
   "name": "python",
   "nbconvert_exporter": "python",
   "pygments_lexer": "ipython3",
   "version": "3.9.13"
  }
 },
 "nbformat": 4,
 "nbformat_minor": 5
}
